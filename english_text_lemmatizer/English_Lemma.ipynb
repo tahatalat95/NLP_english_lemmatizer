{
 "cells": [
  {
   "cell_type": "markdown",
   "id": "b6fecce2",
   "metadata": {},
   "source": [
    "# method_1"
   ]
  },
  {
   "cell_type": "code",
   "execution_count": 1,
   "id": "f245baa5",
   "metadata": {},
   "outputs": [],
   "source": [
    "import nltk\n",
    "from nltk.stem import  WordNetLemmatizer \n",
    "from nltk.corpus import stopwords\n",
    "from nltk.tokenize import word_tokenize"
   ]
  },
  {
   "cell_type": "code",
   "execution_count": 21,
   "id": "caa43141",
   "metadata": {},
   "outputs": [],
   "source": [
    "wnl = WordNetLemmatizer()\n",
    "stop_words = set(stopwords.words('english'))"
   ]
  },
  {
   "cell_type": "code",
   "execution_count": 22,
   "id": "b0134825",
   "metadata": {},
   "outputs": [],
   "source": [
    "example_sent = \"\"\"better Fish farming is a rapidly growing industry \n",
    "                    that has helped make some species of fish more affordable \n",
    "                    and accessible to consumers. Overfishing and illegal fishing practices,\n",
    "                    on the other hand, cause some fish populations to dwindle to unsustainable levels,\n",
    "                    so it is critical to source seafood from sustainable sources whenever possible.\"\"\""
   ]
  },
  {
   "cell_type": "code",
   "execution_count": 23,
   "id": "7fe502da",
   "metadata": {},
   "outputs": [],
   "source": [
    "word_tokens = word_tokenize(example_sent)"
   ]
  },
  {
   "cell_type": "code",
   "execution_count": 24,
   "id": "2b5662c7",
   "metadata": {},
   "outputs": [],
   "source": [
    "no_sw = []\n",
    "for w in word_tokens :\n",
    "    if w not in stop_words :\n",
    "        no_sw.append(w)"
   ]
  },
  {
   "cell_type": "code",
   "execution_count": 1,
   "id": "24e97b20",
   "metadata": {},
   "outputs": [
    {
     "ename": "NameError",
     "evalue": "name 'no_sw' is not defined",
     "output_type": "error",
     "traceback": [
      "\u001b[1;31m---------------------------------------------------------------------------\u001b[0m",
      "\u001b[1;31mNameError\u001b[0m                                 Traceback (most recent call last)",
      "\u001b[1;32m<ipython-input-1-bf06a0346b52>\u001b[0m in \u001b[0;36m<module>\u001b[1;34m\u001b[0m\n\u001b[0;32m      1\u001b[0m \u001b[0mfiltered_sentence\u001b[0m \u001b[1;33m=\u001b[0m \u001b[1;33m[\u001b[0m\u001b[1;33m]\u001b[0m\u001b[1;33m\u001b[0m\u001b[1;33m\u001b[0m\u001b[0m\n\u001b[0;32m      2\u001b[0m \u001b[1;33m\u001b[0m\u001b[0m\n\u001b[1;32m----> 3\u001b[1;33m \u001b[1;32mfor\u001b[0m \u001b[0mw\u001b[0m \u001b[1;32min\u001b[0m \u001b[0mno_sw\u001b[0m\u001b[1;33m:\u001b[0m\u001b[1;33m\u001b[0m\u001b[1;33m\u001b[0m\u001b[0m\n\u001b[0m\u001b[0;32m      4\u001b[0m     \u001b[0mfiltered_sentence\u001b[0m\u001b[1;33m.\u001b[0m\u001b[0mappend\u001b[0m\u001b[1;33m(\u001b[0m\u001b[0mw\u001b[0m\u001b[1;33m)\u001b[0m\u001b[1;33m\u001b[0m\u001b[1;33m\u001b[0m\u001b[0m\n\u001b[0;32m      5\u001b[0m     \u001b[0mprint\u001b[0m\u001b[1;33m(\u001b[0m \u001b[0mw\u001b[0m \u001b[1;33m,\u001b[0m \u001b[1;34m\" : \"\u001b[0m\u001b[1;33m,\u001b[0m \u001b[0mwnl\u001b[0m\u001b[1;33m.\u001b[0m\u001b[0mlemmatize\u001b[0m\u001b[1;33m(\u001b[0m\u001b[0mw\u001b[0m\u001b[1;33m)\u001b[0m\u001b[1;33m)\u001b[0m\u001b[1;33m\u001b[0m\u001b[1;33m\u001b[0m\u001b[0m\n",
      "\u001b[1;31mNameError\u001b[0m: name 'no_sw' is not defined"
     ]
    }
   ],
   "source": [
    "filtered_sentence = []\n",
    "\n",
    "for w in no_sw:\n",
    "    filtered_sentence.append(w)\n",
    "    print( w , \" : \", wnl.lemmatize(w))"
   ]
  },
  {
   "cell_type": "markdown",
   "id": "dc611ecd",
   "metadata": {},
   "source": [
    "# method_2"
   ]
  },
  {
   "cell_type": "code",
   "execution_count": 37,
   "id": "f410bdba",
   "metadata": {},
   "outputs": [],
   "source": [
    "txt=\"Fish farming is a rapidly growing industry that has helped make some species of fish more affordable and accessible to consumers. Overfishing and illegal fishing practices, on the other hand, cause some fish populations to dwindle to unsustainable levels, so it is critical to source seafood from sustainable sources whenever possible.\""
   ]
  },
  {
   "cell_type": "code",
   "execution_count": 38,
   "id": "96c027b8",
   "metadata": {},
   "outputs": [],
   "source": [
    "def lemm_Sentence(sentence):\n",
    "    token_words=word_tokenize(sentence) \n",
    "    lemma_sentence=[]\n",
    "    for word in token_words:\n",
    "        lemma_sentence.append(wnl.lemmatize(word))\n",
    "        print(word, \" -=> \",wnl.lemmatize(word))\n",
    "    return lemma_sentence\n"
   ]
  },
  {
   "cell_type": "code",
   "execution_count": 39,
   "id": "94bc0701",
   "metadata": {},
   "outputs": [
    {
     "name": "stdout",
     "output_type": "stream",
     "text": [
      "Fish  -=>  Fish\n",
      "farming  -=>  farming\n",
      "is  -=>  is\n",
      "a  -=>  a\n",
      "rapidly  -=>  rapidly\n",
      "growing  -=>  growing\n",
      "industry  -=>  industry\n",
      "that  -=>  that\n",
      "has  -=>  ha\n",
      "helped  -=>  helped\n",
      "make  -=>  make\n",
      "some  -=>  some\n",
      "species  -=>  specie\n",
      "of  -=>  of\n",
      "fish  -=>  fish\n",
      "more  -=>  more\n",
      "affordable  -=>  affordable\n",
      "and  -=>  and\n",
      "accessible  -=>  accessible\n",
      "to  -=>  to\n",
      "consumers  -=>  consumer\n",
      ".  -=>  .\n",
      "Overfishing  -=>  Overfishing\n",
      "and  -=>  and\n",
      "illegal  -=>  illegal\n",
      "fishing  -=>  fishing\n",
      "practices  -=>  practice\n",
      ",  -=>  ,\n",
      "on  -=>  on\n",
      "the  -=>  the\n",
      "other  -=>  other\n",
      "hand  -=>  hand\n",
      ",  -=>  ,\n",
      "cause  -=>  cause\n",
      "some  -=>  some\n",
      "fish  -=>  fish\n",
      "populations  -=>  population\n",
      "to  -=>  to\n",
      "dwindle  -=>  dwindle\n",
      "to  -=>  to\n",
      "unsustainable  -=>  unsustainable\n",
      "levels  -=>  level\n",
      ",  -=>  ,\n",
      "so  -=>  so\n",
      "it  -=>  it\n",
      "is  -=>  is\n",
      "critical  -=>  critical\n",
      "to  -=>  to\n",
      "source  -=>  source\n",
      "seafood  -=>  seafood\n",
      "from  -=>  from\n",
      "sustainable  -=>  sustainable\n",
      "sources  -=>  source\n",
      "whenever  -=>  whenever\n",
      "possible  -=>  possible\n",
      ".  -=>  .\n",
      "Fish farming is a rapidly growing industry that ha helped make some specie of fish more affordable and accessible to consumer . Overfishing and illegal fishing practice , on the other hand , cause some fish population to dwindle to unsustainable level , so it is critical to source seafood from sustainable source whenever possible .\n"
     ]
    }
   ],
   "source": [
    "lemma_sentence = lemm_Sentence(txt)\n",
    "print(\" \".join(lemma_sentence))"
   ]
  }
 ],
 "metadata": {
  "kernelspec": {
   "display_name": "Python 3",
   "language": "python",
   "name": "python3"
  },
  "language_info": {
   "codemirror_mode": {
    "name": "ipython",
    "version": 3
   },
   "file_extension": ".py",
   "mimetype": "text/x-python",
   "name": "python",
   "nbconvert_exporter": "python",
   "pygments_lexer": "ipython3",
   "version": "3.8.8"
  }
 },
 "nbformat": 4,
 "nbformat_minor": 5
}
